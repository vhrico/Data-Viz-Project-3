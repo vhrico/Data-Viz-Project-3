# Import the dependencies
import pandas as pd
import numpy as np
import datetime

# ORM Stuff
from sqlalchemy import create_engine, inspect



df = pd.read_csv("cleaned_meteorite_data.csv")
df.head()


df.info()


df = df.drop(columns=['geo_location'])  # Drop the column
df['year'] = df['year'].fillna(0).astype(int)  # Convert year to int, replacing NaN with 0



df = df.drop(columns=['name_type', 'location_type', 'fall', 'Unnamed: 0', 'name'])  


df = df.dropna()  # Drop rows with NaN values
df.info()


engine = create_engine("sqlite:///meteorites.sqlite")


# Random sample for SPEED
df2 = df.sample(40000)
df2.head()


df2.to_sql(name="meteorites", con=engine, index=False, if_exists="append", method="multi")


# Create the inspector and connect it to the engine
inspector = inspect(engine)

# Collect the names of tables within the database
tables = inspector.get_table_names()

# Using the inspector to print the column names within the 'dow' table and its types
for table in tables:
    print(table)
    print("--------")
    columns = inspector.get_columns(table)
    for column in columns:
        print(column["name"], column["type"])

    print()


engine.dispose()



