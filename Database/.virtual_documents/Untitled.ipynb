# Imports
import pandas as pd
import matplotlib.pyplot as plt
import sqlalchemy
from sqlalchemy.ext.automap import automap_base
from sqlalchemy.orm import Session
from sqlalchemy import create_engine, func, text, inspect

from sqlalchemy.ext.declarative import declarative_base


# Connection stuff
engine = create_engine("sqlite:///meteorites.sqlite")
Base = automap_base()

# reflect the tables
Base.prepare(autoload_with=engine)


# Create our session (link) from Python to the DB
session = Session(engine)
conn = engine.connect()


# Create an inspector object
inspector = inspect(engine)

# Get column information for a specific table (e.g., 'users')
table_name = 'meteorites'


# Query the database to get all rows and columns
query = f"SELECT * FROM {table_name}"

# Use Pandas to directly read from the SQL query and create a DataFrame
df = pd.read_sql(query, engine)

df
























