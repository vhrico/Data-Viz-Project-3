# Imports
import pandas as pd
import plotly.express as px
import matplotlib.pyplot as plt
import sqlalchemy
from sqlalchemy.ext.automap import automap_base
from sqlalchemy.orm import Session
from sqlalchemy import create_engine, func, text, inspect

from sqlalchemy.ext.declarative import declarative_base


# Connection stuff
engine = create_engine("sqlite:///meteorites.sqlite")
Base = automap_base()

# reflect the tables
Base.prepare(autoload_with=engine)


# Create our session (link) from Python to the DB
session = Session(engine)
conn = engine.connect()


# Create an inspector object
inspector = inspect(engine)

# Get column information for a specific table (e.g., 'users')
table_name = 'meteorites'


# Query the database to get all rows and columns
query = f"SELECT * FROM {table_name}"

# Use Pandas to directly read from the SQL query and create a DataFrame
df = pd.read_sql(query, engine)

df


query = f"""SELECT year, COUNT(*) AS num_meteorites
FROM meteorites
WHERE year > 1900
GROUP BY year
ORDER BY year;
"""
year_df = pd.read_sql(query, engine)
year_df


query = f"""SELECT rec_class, COUNT(*) AS num_meteorites
FROM meteorites
GROUP BY rec_class
HAVING COUNT(*) > 100;
"""
rec_class_df = pd.read_sql(query, engine)
rec_class_df


plt.figure(figsize=(12, 6))  # Set the figure size for better readability
plt.bar(year_df['year'], year_df['num_meteorites'], color='skyblue')

# Adding titles and labels
plt.title('Number of Meteorites Fallen Per Year (After 1900)', fontsize=16)
plt.xlabel('Year', fontsize=14)
plt.ylabel('Number of Meteorites', fontsize=14)

# Rotate x-axis labels for better readability
plt.xticks(rotation=45)

# Show the plot
plt.tight_layout()  # Adjust layout to fit labels better
plt.show()


query = f"""SELECT year, COUNT(*) AS num_meteorites
FROM meteorites
WHERE year > 1960
GROUP BY year
ORDER BY year;
"""
year_df2 = pd.read_sql(query, engine)
year_df2


plt.figure(figsize=(12, 6))  # Set the figure size for better readability
plt.bar(year_df2['year'], year_df2['num_meteorites'], color='skyblue')

# Adding titles and labels
plt.title('Number of Meteorites Fallen Per Year (After 1900)', fontsize=16)
plt.xlabel('Year', fontsize=14)
plt.ylabel('Number of Meteorites', fontsize=14)

# Rotate x-axis labels for better readability
plt.xticks(rotation=45)

# Show the plot
plt.tight_layout()  # Adjust layout to fit labels better
plt.show()


plt.figure(figsize=(12, 6))  # Set the figure size for better readability
plt.bar(rec_class_df['rec_class'], rec_class_df['num_meteorites'], color='salmon')

# Adding titles and labels
plt.title('Number of Meteorites per Classification', fontsize=16)
plt.xlabel('Classification', fontsize=14)
plt.ylabel('Number of Meteorites', fontsize=14)

# Rotate x-axis labels for better readability (if necessary)
plt.xticks(rotation=90)  # Rotate by 90 degrees if the names are long

# Show the plot
plt.tight_layout()  # Adjust layout to fit labels better
plt.show()


# Class data too much for pie chart unless we cut it down
# Not many meteor falls in earlier years
# Not many classes with over 400 meteor falls


query = f"""
SELECT rec_class, year, COUNT(*) AS num_meteorites
FROM meteorites
GROUP BY rec_class, year
ORDER BY year;
"""
rec_class_df2 = pd.read_sql(query, engine)
rec_class_df2


fig = px.sunburst(rec_class_df2, 
                  path=['rec_class', 'year'],  # Hierarchical structure (rec_class and year)
                  values='num_meteorites',  # Values represent the size of each segment
                  title='Meteorite Classification and Year Distribution')

# Show the chart
fig.show()




