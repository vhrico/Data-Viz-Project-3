{
 "cells": [
  {
   "cell_type": "code",
   "execution_count": 1,
   "metadata": {},
   "outputs": [],
   "source": [
    "# Import the dependencies\n",
    "import pandas as pd\n",
    "import numpy as np\n",
    "import datetime\n",
    "\n",
    "# ORM Stuff\n",
    "from sqlalchemy import create_engine, inspect\n"
   ]
  },
  {
   "cell_type": "code",
   "execution_count": 2,
   "metadata": {},
   "outputs": [
    {
     "data": {
      "text/html": [
       "<div>\n",
       "<style scoped>\n",
       "    .dataframe tbody tr th:only-of-type {\n",
       "        vertical-align: middle;\n",
       "    }\n",
       "\n",
       "    .dataframe tbody tr th {\n",
       "        vertical-align: top;\n",
       "    }\n",
       "\n",
       "    .dataframe thead th {\n",
       "        text-align: right;\n",
       "    }\n",
       "</style>\n",
       "<table border=\"1\" class=\"dataframe\">\n",
       "  <thead>\n",
       "    <tr style=\"text-align: right;\">\n",
       "      <th></th>\n",
       "      <th>Unnamed: 0</th>\n",
       "      <th>name</th>\n",
       "      <th>id</th>\n",
       "      <th>name_type</th>\n",
       "      <th>rec_class</th>\n",
       "      <th>mass</th>\n",
       "      <th>fall</th>\n",
       "      <th>year</th>\n",
       "      <th>rec_lat</th>\n",
       "      <th>rec_long</th>\n",
       "      <th>geo_location</th>\n",
       "      <th>location_type</th>\n",
       "    </tr>\n",
       "  </thead>\n",
       "  <tbody>\n",
       "    <tr>\n",
       "      <th>0</th>\n",
       "      <td>0</td>\n",
       "      <td>Aachen</td>\n",
       "      <td>1</td>\n",
       "      <td>Valid</td>\n",
       "      <td>L5</td>\n",
       "      <td>21.0</td>\n",
       "      <td>Fell</td>\n",
       "      <td>1880.0</td>\n",
       "      <td>50.77500</td>\n",
       "      <td>6.08333</td>\n",
       "      <td>NaN</td>\n",
       "      <td>Exact</td>\n",
       "    </tr>\n",
       "    <tr>\n",
       "      <th>1</th>\n",
       "      <td>1</td>\n",
       "      <td>Aarhus</td>\n",
       "      <td>2</td>\n",
       "      <td>Valid</td>\n",
       "      <td>H6</td>\n",
       "      <td>720.0</td>\n",
       "      <td>Fell</td>\n",
       "      <td>1951.0</td>\n",
       "      <td>56.18333</td>\n",
       "      <td>10.23333</td>\n",
       "      <td>NaN</td>\n",
       "      <td>Exact</td>\n",
       "    </tr>\n",
       "    <tr>\n",
       "      <th>2</th>\n",
       "      <td>2</td>\n",
       "      <td>Abee</td>\n",
       "      <td>6</td>\n",
       "      <td>Valid</td>\n",
       "      <td>EH4</td>\n",
       "      <td>107000.0</td>\n",
       "      <td>Fell</td>\n",
       "      <td>1952.0</td>\n",
       "      <td>54.21667</td>\n",
       "      <td>-113.00000</td>\n",
       "      <td>NaN</td>\n",
       "      <td>Exact</td>\n",
       "    </tr>\n",
       "    <tr>\n",
       "      <th>3</th>\n",
       "      <td>3</td>\n",
       "      <td>Acapulco</td>\n",
       "      <td>10</td>\n",
       "      <td>Valid</td>\n",
       "      <td>Acapulcoite</td>\n",
       "      <td>1914.0</td>\n",
       "      <td>Fell</td>\n",
       "      <td>1976.0</td>\n",
       "      <td>16.88333</td>\n",
       "      <td>-99.90000</td>\n",
       "      <td>NaN</td>\n",
       "      <td>Exact</td>\n",
       "    </tr>\n",
       "    <tr>\n",
       "      <th>4</th>\n",
       "      <td>4</td>\n",
       "      <td>Achiras</td>\n",
       "      <td>370</td>\n",
       "      <td>Valid</td>\n",
       "      <td>L6</td>\n",
       "      <td>780.0</td>\n",
       "      <td>Fell</td>\n",
       "      <td>1902.0</td>\n",
       "      <td>-33.16667</td>\n",
       "      <td>-64.95000</td>\n",
       "      <td>NaN</td>\n",
       "      <td>Exact</td>\n",
       "    </tr>\n",
       "  </tbody>\n",
       "</table>\n",
       "</div>"
      ],
      "text/plain": [
       "   Unnamed: 0      name   id name_type    rec_class      mass  fall    year  \\\n",
       "0           0    Aachen    1     Valid           L5      21.0  Fell  1880.0   \n",
       "1           1    Aarhus    2     Valid           H6     720.0  Fell  1951.0   \n",
       "2           2      Abee    6     Valid          EH4  107000.0  Fell  1952.0   \n",
       "3           3  Acapulco   10     Valid  Acapulcoite    1914.0  Fell  1976.0   \n",
       "4           4   Achiras  370     Valid           L6     780.0  Fell  1902.0   \n",
       "\n",
       "    rec_lat   rec_long geo_location location_type  \n",
       "0  50.77500    6.08333          NaN         Exact  \n",
       "1  56.18333   10.23333          NaN         Exact  \n",
       "2  54.21667 -113.00000          NaN         Exact  \n",
       "3  16.88333  -99.90000          NaN         Exact  \n",
       "4 -33.16667  -64.95000          NaN         Exact  "
      ]
     },
     "execution_count": 2,
     "metadata": {},
     "output_type": "execute_result"
    }
   ],
   "source": [
    "df = pd.read_csv(\"cleaned_meteorite_data.csv\")\n",
    "df.head()"
   ]
  },
  {
   "cell_type": "code",
   "execution_count": 3,
   "metadata": {},
   "outputs": [
    {
     "name": "stdout",
     "output_type": "stream",
     "text": [
      "<class 'pandas.core.frame.DataFrame'>\n",
      "RangeIndex: 45716 entries, 0 to 45715\n",
      "Data columns (total 12 columns):\n",
      " #   Column         Non-Null Count  Dtype  \n",
      "---  ------         --------------  -----  \n",
      " 0   Unnamed: 0     45716 non-null  int64  \n",
      " 1   name           45716 non-null  object \n",
      " 2   id             45716 non-null  int64  \n",
      " 3   name_type      45716 non-null  object \n",
      " 4   rec_class      45716 non-null  object \n",
      " 5   mass           45585 non-null  float64\n",
      " 6   fall           45716 non-null  object \n",
      " 7   year           45428 non-null  float64\n",
      " 8   rec_lat        44149 non-null  float64\n",
      " 9   rec_long       44149 non-null  float64\n",
      " 10  geo_location   12183 non-null  object \n",
      " 11  location_type  45716 non-null  object \n",
      "dtypes: float64(4), int64(2), object(6)\n",
      "memory usage: 4.2+ MB\n"
     ]
    }
   ],
   "source": [
    "df.info()"
   ]
  },
  {
   "cell_type": "code",
   "execution_count": 4,
   "metadata": {},
   "outputs": [],
   "source": [
    "df = df.drop(columns=['geo_location'])  # Drop the column\n",
    "df['year'] = df['year'].fillna(0).astype(int)  # Convert year to int, replacing NaN with 0\n"
   ]
  },
  {
   "cell_type": "code",
   "execution_count": 5,
   "metadata": {},
   "outputs": [],
   "source": [
    "df = df.drop(columns=['name_type', 'location_type', 'fall', 'Unnamed: 0', 'name'])  "
   ]
  },
  {
   "cell_type": "code",
   "execution_count": 6,
   "metadata": {},
   "outputs": [
    {
     "name": "stdout",
     "output_type": "stream",
     "text": [
      "<class 'pandas.core.frame.DataFrame'>\n",
      "Index: 44029 entries, 0 to 45715\n",
      "Data columns (total 6 columns):\n",
      " #   Column     Non-Null Count  Dtype  \n",
      "---  ------     --------------  -----  \n",
      " 0   id         44029 non-null  int64  \n",
      " 1   rec_class  44029 non-null  object \n",
      " 2   mass       44029 non-null  float64\n",
      " 3   year       44029 non-null  int64  \n",
      " 4   rec_lat    44029 non-null  float64\n",
      " 5   rec_long   44029 non-null  float64\n",
      "dtypes: float64(3), int64(2), object(1)\n",
      "memory usage: 2.4+ MB\n"
     ]
    }
   ],
   "source": [
    "df = df.dropna()  # Drop rows with NaN values\n",
    "df.info()"
   ]
  },
  {
   "cell_type": "code",
   "execution_count": 7,
   "metadata": {},
   "outputs": [],
   "source": [
    "engine = create_engine(\"sqlite:///meteorites.sqlite\")"
   ]
  },
  {
   "cell_type": "code",
   "execution_count": 8,
   "metadata": {},
   "outputs": [
    {
     "data": {
      "text/html": [
       "<div>\n",
       "<style scoped>\n",
       "    .dataframe tbody tr th:only-of-type {\n",
       "        vertical-align: middle;\n",
       "    }\n",
       "\n",
       "    .dataframe tbody tr th {\n",
       "        vertical-align: top;\n",
       "    }\n",
       "\n",
       "    .dataframe thead th {\n",
       "        text-align: right;\n",
       "    }\n",
       "</style>\n",
       "<table border=\"1\" class=\"dataframe\">\n",
       "  <thead>\n",
       "    <tr style=\"text-align: right;\">\n",
       "      <th></th>\n",
       "      <th>id</th>\n",
       "      <th>rec_class</th>\n",
       "      <th>mass</th>\n",
       "      <th>year</th>\n",
       "      <th>rec_lat</th>\n",
       "      <th>rec_long</th>\n",
       "    </tr>\n",
       "  </thead>\n",
       "  <tbody>\n",
       "    <tr>\n",
       "      <th>17882</th>\n",
       "      <td>34930</td>\n",
       "      <td>L5</td>\n",
       "      <td>5.20</td>\n",
       "      <td>2003</td>\n",
       "      <td>-86.36667</td>\n",
       "      <td>-70.00000</td>\n",
       "    </tr>\n",
       "    <tr>\n",
       "      <th>1705</th>\n",
       "      <td>520</td>\n",
       "      <td>H5</td>\n",
       "      <td>7.30</td>\n",
       "      <td>1982</td>\n",
       "      <td>-77.04713</td>\n",
       "      <td>157.28227</td>\n",
       "    </tr>\n",
       "    <tr>\n",
       "      <th>39193</th>\n",
       "      <td>25154</td>\n",
       "      <td>L6</td>\n",
       "      <td>156.80</td>\n",
       "      <td>1975</td>\n",
       "      <td>-71.50000</td>\n",
       "      <td>35.66667</td>\n",
       "    </tr>\n",
       "    <tr>\n",
       "      <th>38589</th>\n",
       "      <td>24549</td>\n",
       "      <td>LL3</td>\n",
       "      <td>4.65</td>\n",
       "      <td>1974</td>\n",
       "      <td>-71.50000</td>\n",
       "      <td>35.66667</td>\n",
       "    </tr>\n",
       "    <tr>\n",
       "      <th>42760</th>\n",
       "      <td>29511</td>\n",
       "      <td>L3</td>\n",
       "      <td>39.07</td>\n",
       "      <td>1986</td>\n",
       "      <td>-71.50000</td>\n",
       "      <td>35.66667</td>\n",
       "    </tr>\n",
       "  </tbody>\n",
       "</table>\n",
       "</div>"
      ],
      "text/plain": [
       "          id rec_class    mass  year   rec_lat   rec_long\n",
       "17882  34930        L5    5.20  2003 -86.36667  -70.00000\n",
       "1705     520        H5    7.30  1982 -77.04713  157.28227\n",
       "39193  25154        L6  156.80  1975 -71.50000   35.66667\n",
       "38589  24549       LL3    4.65  1974 -71.50000   35.66667\n",
       "42760  29511        L3   39.07  1986 -71.50000   35.66667"
      ]
     },
     "execution_count": 8,
     "metadata": {},
     "output_type": "execute_result"
    }
   ],
   "source": [
    "# Random sample for SPEED\n",
    "df2 = df.sample(40000)\n",
    "df2.head()"
   ]
  },
  {
   "cell_type": "code",
   "execution_count": 9,
   "metadata": {},
   "outputs": [
    {
     "data": {
      "text/plain": [
       "40000"
      ]
     },
     "execution_count": 9,
     "metadata": {},
     "output_type": "execute_result"
    }
   ],
   "source": [
    "df2.to_sql(name=\"meteorites\", con=engine, index=False, if_exists=\"append\", method=\"multi\")"
   ]
  },
  {
   "cell_type": "code",
   "execution_count": 10,
   "metadata": {},
   "outputs": [
    {
     "name": "stdout",
     "output_type": "stream",
     "text": [
      "meteorites\n",
      "--------\n",
      "id BIGINT\n",
      "rec_class TEXT\n",
      "mass FLOAT\n",
      "year BIGINT\n",
      "rec_lat FLOAT\n",
      "rec_long FLOAT\n",
      "\n"
     ]
    }
   ],
   "source": [
    "# Create the inspector and connect it to the engine\n",
    "inspector = inspect(engine)\n",
    "\n",
    "# Collect the names of tables within the database\n",
    "tables = inspector.get_table_names()\n",
    "\n",
    "# Using the inspector to print the column names within the 'dow' table and its types\n",
    "for table in tables:\n",
    "    print(table)\n",
    "    print(\"--------\")\n",
    "    columns = inspector.get_columns(table)\n",
    "    for column in columns:\n",
    "        print(column[\"name\"], column[\"type\"])\n",
    "\n",
    "    print()"
   ]
  },
  {
   "cell_type": "code",
   "execution_count": 11,
   "metadata": {},
   "outputs": [],
   "source": [
    "engine.dispose()"
   ]
  },
  {
   "cell_type": "code",
   "execution_count": null,
   "metadata": {},
   "outputs": [],
   "source": []
  }
 ],
 "metadata": {
  "kernelspec": {
   "display_name": "Python 3 (ipykernel)",
   "language": "python",
   "name": "python3"
  },
  "language_info": {
   "codemirror_mode": {
    "name": "ipython",
    "version": 3
   },
   "file_extension": ".py",
   "mimetype": "text/x-python",
   "name": "python",
   "nbconvert_exporter": "python",
   "pygments_lexer": "ipython3",
   "version": "3.12.7"
  }
 },
 "nbformat": 4,
 "nbformat_minor": 4
}
